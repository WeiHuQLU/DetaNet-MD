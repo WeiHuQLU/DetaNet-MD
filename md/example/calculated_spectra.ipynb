{
 "cells": [
  {
   "cell_type": "code",
   "execution_count": null,
   "id": "32fd11cb-8385-4d73-adc5-31d5c3538ee4",
   "metadata": {},
   "outputs": [],
   "source": [
    "from ase.io import read\n",
    "from md.hdf5_property import Property\n",
    "from schnetpack import properties\n",
    "import numpy as np\n",
    "import matplotlib.pyplot as plt\n",
    "import torch\n",
    "from md.Spectrum import IR_Spectrum,Raman_Spectrum\n"
   ]
  },
  {
   "cell_type": "code",
   "execution_count": null,
   "id": "4786adec-430b-48a8-8453-5566092065ac",
   "metadata": {},
   "outputs": [],
   "source": [
    "#IR\n",
    "log_file=\"/examples/paracetamol_ir/simulation.hdf5\"\n",
    "MDdata=Property(log_file)  \n",
    "IRSpectrum=IR_Spectrum(MDdata,resolution=4096)\n",
    "IRSpectrum.compute_spectrum(molecule_idx=1)\n",
    "md_frequencies, md_intensities = IRSpectrum.get_spectrum()"
   ]
  },
  {
   "cell_type": "code",
   "execution_count": null,
   "id": "e62392a5-8c60-4d53-acf9-8fe3bb0295fe",
   "metadata": {},
   "outputs": [],
   "source": [
    "# Plot the IR spectrum\n",
    "plt.figure()\n",
    "plt.plot(md_frequencies, md_intensities)\n",
    "plt.xlim(500,4000)\n",
    "plt.ylim(0,200)\n",
    "plt.ylabel('I [a.u.]')\n",
    "plt.xlabel('$\\omega$ [cm$^{-1}$]')\n",
    "plt.show()"
   ]
  },
  {
   "cell_type": "code",
   "execution_count": null,
   "id": "7b16215a-bf97-4c28-b025-46c5c24c9146",
   "metadata": {},
   "outputs": [],
   "source": [
    "#Raman"
   ]
  },
  {
   "cell_type": "code",
   "execution_count": null,
   "id": "8e9f2ff0-f3fc-40cd-9abf-e0b8b2d18675",
   "metadata": {},
   "outputs": [],
   "source": [
    "log_file1=\"/examples/glycine_raman/simulation.hdf5\"\n",
    "MDdata1=Property(log_file1,skip_initial=10000)\n",
    "RamanSpectrum=Raman_Spectrum(MDdata1,incident_frequency=19455.25,temperature=300,averaged=True,resolution=4098)\n",
    "RamanSpectrum.compute_spectrum(molecule_idx=1)\n",
    "orca_spectrum_isotropic, orca_spectrum_anisotropic=RamanSpectrum.get_spectrum()\n",
    "ramanmd_frequencies, ramanmd_intensities=orca_spectrum_isotropic"
   ]
  },
  {
   "cell_type": "code",
   "execution_count": null,
   "id": "a3540c42-81b3-4221-9caf-70bb2114e6c0",
   "metadata": {},
   "outputs": [],
   "source": [
    "plt.figure()\n",
    "plt.plot(ramanmd_frequencies, ramanmd_intensities)\n",
    "plt.xlim(500,4000)\n",
    "plt.ylim(0,200)\n",
    "plt.ylabel('I [a.u.]')\n",
    "plt.xlabel('$\\omega$ [cm$^{-1}$]')\n",
    "plt.show()"
   ]
  }
 ],
 "metadata": {
  "kernelspec": {
   "display_name": "run-md",
   "language": "python",
   "name": "run-md"
  },
  "language_info": {
   "codemirror_mode": {
    "name": "ipython",
    "version": 3
   },
   "file_extension": ".py",
   "mimetype": "text/x-python",
   "name": "python",
   "nbconvert_exporter": "python",
   "pygments_lexer": "ipython3",
   "version": "3.12.11"
  }
 },
 "nbformat": 4,
 "nbformat_minor": 5
}
