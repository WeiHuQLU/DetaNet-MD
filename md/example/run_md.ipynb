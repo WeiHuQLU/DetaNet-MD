{
 "cells": [
  {
   "cell_type": "code",
   "execution_count": null,
   "id": "ef25fd0f-24af-46db-894c-baa85ceb08c4",
   "metadata": {},
   "outputs": [],
   "source": [
    "from ase.io import read\n",
    "from md.DetaNetMD import RPMolecularDynamics,MolecularDynamics\n",
    "import time\n",
    "import warnings\n",
    "warnings.filterwarnings(\"ignore\", category=UserWarning)"
   ]
  },
  {
   "cell_type": "code",
   "execution_count": 2,
   "id": "762b4815-71dc-4346-9e5e-8d5514e4568d",
   "metadata": {},
   "outputs": [
    {
     "data": {
      "text/plain": [
       "Atoms(symbols='C32H36N4O8', pbc=True, cell=[[7.124925, 0.0, 0.0], [0.0, 9.859621, 0.0], [-5.796324001295593, 0.0, 11.67489000435193]], spacegroup_kinds=...)"
      ]
     },
     "execution_count": 2,
     "metadata": {},
     "output_type": "execute_result"
    }
   ],
   "source": [
    "\n",
    "molecule_path='/home/huwei22/jishengjiao/detanet/data/tests/testdata/H9C8NO2_symmetry.cif'\n",
    "molecule = read(molecule_path)\n",
    "#molecule.set_pbc(False)  \n",
    "model_force_path = '/force/force7.pth'\n",
    "#model_energy_path= '/energy/energy7.pth'\n",
    "model_dipole_path= '/dipole/dipole7.pth'\n",
    "#model_polarizability_path='/polar/polar7.pth'\n",
    "model_files=[model_force_path,model_dipole_path] #model_polarizability_path ,model_dipole_path,\n",
    "molecule"
   ]
  },
  {
   "cell_type": "code",
   "execution_count": 3,
   "id": "281e3841-66e1-4e37-a49e-2205fab27ee2",
   "metadata": {},
   "outputs": [
    {
     "name": "stderr",
     "output_type": "stream",
     "text": [
      "/home/huwei22/jishengjiao/detanet/md_dipole/models_load.py:31: FutureWarning: You are using `torch.load` with `weights_only=False` (the current default value), which uses the default pickle module implicitly. It is possible to construct malicious pickle data which will execute arbitrary code during unpickling (See https://github.com/pytorch/pytorch/blob/main/SECURITY.md#untrusted-models for more details). In a future release, the default value for `weights_only` will be flipped to `True`. This limits the functions that could be executed during unpickling. Arbitrary objects will no longer be allowed to be loaded via this mode unless they are explicitly allowlisted by the user via `torch.serialization.add_safe_globals`. We recommend you start setting `weights_only=True` for any use case where you don't have full control of the loaded file. Please open an issue on GitHub for any issues related to this experimental feature.\n",
      "  force_trained_params = torch.load(params)\n",
      "/home/huwei22/jishengjiao/detanet/md_dipole/models_load.py:93: FutureWarning: You are using `torch.load` with `weights_only=False` (the current default value), which uses the default pickle module implicitly. It is possible to construct malicious pickle data which will execute arbitrary code during unpickling (See https://github.com/pytorch/pytorch/blob/main/SECURITY.md#untrusted-models for more details). In a future release, the default value for `weights_only` will be flipped to `True`. This limits the functions that could be executed during unpickling. Arbitrary objects will no longer be allowed to be loaded via this mode unless they are explicitly allowlisted by the user via `torch.serialization.add_safe_globals`. We recommend you start setting `weights_only=True` for any use case where you don't have full control of the loaded file. Please open an issue on GitHub for any issues related to this experimental feature.\n",
      "  dipole_trained_params = torch.load(params)\n",
      "100%|█████████████████████████████████████| 50000/50000 [59:27<00:00, 14.02it/s]"
     ]
    },
    {
     "name": "stdout",
     "output_type": "stream",
     "text": [
      "Total run time: 3577.70 seconds\n"
     ]
    },
    {
     "name": "stderr",
     "output_type": "stream",
     "text": [
      "\n"
     ]
    }
   ],
   "source": [
    "#MD        \n",
    "md_params={\"system_temperature\": 300,\n",
    "            \"time_step\": 0.5,\n",
    "            \"bath_temperature\":300,\n",
    "            \"time_constant\": 100,\n",
    "            \"n_steps\":50000,\n",
    "           \"n_replicas\":1,\n",
    "            \"chain_length\":3,\n",
    "           \"remove_center_of_mass\":False,\n",
    "           \"required_properties\":['forces','dipole_moment'] #,'polarizability','dipole_moment','energy'\n",
    "            }\n",
    "\n",
    "\n",
    "md_workdir=\"/example_md/md_data\"\n",
    "\n",
    "start_time = time.time()\n",
    "md = MolecularDynamics(molecule, model_files,md_params, md_workdir, md_device=\"cuda\")\n",
    "md.run(MDRestart=False)\n"
   ]
  },
  {
   "cell_type": "code",
   "execution_count": null,
   "id": "cd0fd9c5-33f5-4bc6-8a1d-9c10a57a2b9d",
   "metadata": {},
   "outputs": [],
   "source": []
  },
  {
   "cell_type": "code",
   "execution_count": null,
   "id": "fbdc5042-22f1-4dc5-9ecf-1f447a20c2bd",
   "metadata": {},
   "outputs": [],
   "source": []
  }
 ],
 "metadata": {
  "kernelspec": {
   "display_name": "run-md",
   "language": "python",
   "name": "run-md"
  },
  "language_info": {
   "codemirror_mode": {
    "name": "ipython",
    "version": 3
   },
   "file_extension": ".py",
   "mimetype": "text/x-python",
   "name": "python",
   "nbconvert_exporter": "python",
   "pygments_lexer": "ipython3",
   "version": "3.12.11"
  }
 },
 "nbformat": 4,
 "nbformat_minor": 5
}
