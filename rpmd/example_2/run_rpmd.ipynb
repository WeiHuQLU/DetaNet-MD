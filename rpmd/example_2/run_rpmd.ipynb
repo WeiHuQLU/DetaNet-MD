{
 "cells": [
  {
   "cell_type": "code",
   "execution_count": 1,
   "id": "fd8d2d55",
   "metadata": {
    "scrolled": true
   },
   "outputs": [],
   "source": [
    "from ase.io import read\n",
    "from md_test.DetaNetMD import RPMolecularDynamics,MolecularDynamics\n",
    "import warnings\n",
    "warnings.filterwarnings(\"ignore\")\n"
   ]
  },
  {
   "cell_type": "code",
   "execution_count": 2,
   "id": "90574794",
   "metadata": {},
   "outputs": [
    {
     "data": {
      "text/plain": [
       "Atoms(symbols='C16H10', pbc=False)"
      ]
     },
     "execution_count": 2,
     "metadata": {},
     "output_type": "execute_result"
    }
   ],
   "source": [
    "\n",
    "molecule_path='/test_data/Pyrene.sdf'\n",
    "molecule = read(molecule_path)\n",
    "#molecule.set_pbc(False) \n",
    "model_force_path = '/QMe14S/force_rc7.pth'\n",
    "#model_energy_path= '/home/huwei19/JSJ/detanet-md/trained_param/qm14/energy_rc7.pth'\n",
    "model_dipole_path= '/QMe14S/dipole.pth'\n",
    "#model_polarizability_path='/home/huwei19/JSJ/detanet-md/trained_param/qm12/polar.pth'\n",
    "model_files=[model_force_path,model_dipole_path]\n",
    "molecule "
   ]
  },
  {
   "cell_type": "code",
   "execution_count": 3,
   "id": "b75221f2",
   "metadata": {
    "scrolled": true
   },
   "outputs": [
    {
     "name": "stderr",
     "output_type": "stream",
     "text": [
      "100%|██████████████████████████████████| 50000/50000 [14:43:07<00:00,  1.06s/it]\n"
     ]
    }
   ],
   "source": [
    "#RPMD  \"remove_center_of_mass\":True\n",
    "\n",
    "rpmd_params = {\"system_temperature\": 300,\n",
    "            \"rpmd_time_step\": 0.2,\n",
    "            \"bath_temperature\":300,\n",
    "            \"time_constant\": 100,\n",
    "            \"n_steps\": 50000,\n",
    "             \"n_replicas\":45,\n",
    "            \"chain_length\":3,\n",
    "            }\n",
    "\n",
    "rpmd_workdir='examples/rpmd_data'\n",
    "rpmd=RPMolecularDynamics(molecule,model_files,rpmd_params,rpmd_workdir,rpmd_device=\"cpu\")\n",
    "\n",
    "rpmd.run(MDRestart=False)\n",
    "\n",
    "\n"
   ]
  },
  {
   "cell_type": "code",
   "execution_count": null,
   "id": "f0f60c46-8674-4b3b-a17f-534c945fe7e9",
   "metadata": {},
   "outputs": [],
   "source": []
  },
  {
   "cell_type": "code",
   "execution_count": null,
   "id": "26657603-ad42-4ca5-b419-fbdac9e725ed",
   "metadata": {},
   "outputs": [],
   "source": []
  },
  {
   "cell_type": "code",
   "execution_count": null,
   "id": "c7c2a2ac-1492-4ae7-99ec-a610c3bdd513",
   "metadata": {},
   "outputs": [],
   "source": []
  },
  {
   "cell_type": "code",
   "execution_count": null,
   "id": "31d03986-1998-4a28-bbf5-9ca6e01456ba",
   "metadata": {},
   "outputs": [],
   "source": []
  },
  {
   "cell_type": "code",
   "execution_count": null,
   "id": "7958542b-9620-4995-bb40-aa5dd86873af",
   "metadata": {},
   "outputs": [],
   "source": []
  },
  {
   "cell_type": "code",
   "execution_count": null,
   "id": "23c9b798-0af1-4eb7-bb9a-1154d36e7d38",
   "metadata": {},
   "outputs": [],
   "source": []
  },
  {
   "cell_type": "code",
   "execution_count": null,
   "id": "48463d95-1296-4cdb-91ea-cadc0dc3f743",
   "metadata": {},
   "outputs": [],
   "source": []
  },
  {
   "cell_type": "code",
   "execution_count": null,
   "id": "5988ea35-7c0f-4b67-adec-9c528957468d",
   "metadata": {},
   "outputs": [],
   "source": []
  }
 ],
 "metadata": {
  "kernelspec": {
   "display_name": "DetaNetMD",
   "language": "python",
   "name": "detanetmd"
  },
  "language_info": {
   "codemirror_mode": {
    "name": "ipython",
    "version": 3
   },
   "file_extension": ".py",
   "mimetype": "text/x-python",
   "name": "python",
   "nbconvert_exporter": "python",
   "pygments_lexer": "ipython3",
   "version": "3.12.9"
  }
 },
 "nbformat": 4,
 "nbformat_minor": 5
}
