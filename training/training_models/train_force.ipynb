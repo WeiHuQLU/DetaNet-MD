{
 "cells": [
  {
   "cell_type": "code",
   "execution_count": 1,
   "id": "a7eeb2b1",
   "metadata": {},
   "outputs": [
    {
     "name": "stderr",
     "output_type": "stream",
     "text": [
      "/home/huwei22/miniforge3/envs/run-md/lib/python3.12/site-packages/torchmdnet/extensions/__init__.py:150: FutureWarning: `torch.library.impl_abstract` was renamed to `torch.library.register_fake`. Please use that instead; we will remove `torch.library.impl_abstract` in a future version of PyTorch.\n",
      "  impl_abstract(\n",
      "/home/huwei22/miniforge3/envs/run-md/lib/python3.12/site-packages/torchmdnet/extensions/__init__.py:153: FutureWarning: `torch.library.impl_abstract` was renamed to `torch.library.register_fake`. Please use that instead; we will remove `torch.library.impl_abstract` in a future version of PyTorch.\n",
      "  impl_abstract(\n"
     ]
    }
   ],
   "source": [
    "import torch\n",
    "import torch.nn as nn\n",
    "import torch.nn.functional as F\n",
    "import sys\n",
    "sys.path.append('/detanet-md/')\n",
    "from detanet_model.detanet_pbc import *\n",
    "from detanet_model.metrics import *\n",
    "\n",
    "from torch_geometric.loader import DataLoader\n",
    "from e3nn import o3\n",
    "import os\n",
    "from torch_geometric.data import Data\n",
    "import warnings\n",
    "warnings.filterwarnings(\"ignore\", category=UserWarning)\n",
    "os.environ['CUDA_LAUNCH_BLOCKING'] = '1'"
   ]
  },
  {
   "cell_type": "code",
   "execution_count": 2,
   "id": "0b4a2798",
   "metadata": {
    "scrolled": true
   },
   "outputs": [],
   "source": [
    "model=DetaNet(num_features=128,\n",
    "                 act='swish',\n",
    "                 maxl=3,\n",
    "                 num_block=3,\n",
    "                 radial_type='trainable_bessel',\n",
    "                 num_radial=128,\n",
    "                 attention_head=8,\n",
    "                 cutoff_lower=0.0,\n",
    "                 cutoff_upper=3.5,\n",
    "                 max_num_neighbors=120,\n",
    "                 strategy=\"brute\",\n",
    "                 check_errors=True,\n",
    "                 box_vecs=None,\n",
    "                 dropout=0.0,\n",
    "                 use_cutoff=False,\n",
    "                 max_atomic_number=35,\n",
    "                 atom_ref=None,\n",
    "                 scale=1.0,\n",
    "                 scalar_outsize=1,\n",
    "                 irreps_out=None,\n",
    "                 summation=True,\n",
    "                 norm=False,\n",
    "                 out_type='scalar',\n",
    "                 grad_type='force',\n",
    "                 device=torch.device('cuda'))\n"
   ]
  },
  {
   "cell_type": "code",
   "execution_count": 4,
   "id": "3c5baeca",
   "metadata": {},
   "outputs": [],
   "source": [
    "class Trainer:\n",
    "    def __init__(self,model,train_loader,val_loader=None,loss_function=l2loss,device=torch.device('cuda'),\n",
    "                 optimizer='Adam_amsgrad',lr=5e-4,weight_decay=0):\n",
    "        self.opt_type=optimizer\n",
    "        self.device=device\n",
    "        self.model=model\n",
    "        self.train_data=train_loader\n",
    "        self.val_data=val_loader\n",
    "        self.device=device\n",
    "        self.opts={'AdamW':torch.optim.AdamW(self.model.parameters(),lr=lr,amsgrad=False,weight_decay=weight_decay),\n",
    "              'AdamW_amsgrad':torch.optim.AdamW(self.model.parameters(),lr=lr,amsgrad=True,weight_decay=weight_decay),\n",
    "              'Adam':torch.optim.Adam(self.model.parameters(),lr=lr,amsgrad=False,weight_decay=weight_decay),\n",
    "              'Adam_amsgrad':torch.optim.Adam(self.model.parameters(),lr=lr,amsgrad=True,weight_decay=weight_decay),\n",
    "              'Adadelta':torch.optim.Adadelta(self.model.parameters(),lr=lr,weight_decay=weight_decay),\n",
    "              'RMSprop':torch.optim.RMSprop(self.model.parameters(),lr=lr,weight_decay=weight_decay),\n",
    "              'SGD':torch.optim.SGD(self.model.parameters(),lr=lr,weight_decay=weight_decay)\n",
    "        }\n",
    "        self.optimizer=self.opts[self.opt_type]\n",
    "        self.loss_function=loss_function\n",
    "        self.step=-1\n",
    "    def train(self,num_epoch,targ,stop_loss=1e-8,element=None,q9=None,loss_area=[100000,1e-8,1e8],\n",
    "              val_per_train=10,view_data=False,print_per_epoch=10,data_scale=1):\n",
    "        self.model.train()\n",
    "        len_train=len(self.train_data)\n",
    "        epoch=num_epoch\n",
    "        \n",
    "\n",
    "        for i in range(epoch):\n",
    "            val_datas=iter(self.val_data)\n",
    "            for j,batch in enumerate(self.train_data):\n",
    "                self.step=self.step+1\n",
    "                torch.cuda.empty_cache()\n",
    "                self.optimizer.zero_grad()\n",
    "#                 print(j,self.step)\n",
    "                try:\n",
    "                    out = self.model(pos=torch.tensor(batch.pos, device=self.device, dtype=torch.float32),\n",
    "                                     z=batch.z.to(self.device),\n",
    "                                     batch=batch.batch.to(self.device), box=batch.box.to(self.device),\n",
    "                                     )\n",
    "                    target = batch[targ].to(self.device) * data_scale\n",
    "                    loss = self.loss_function(out.reshape(target.shape), target)\n",
    "                    if self.step < loss_area[0]:\n",
    "                        loss.backward()\n",
    "                    elif loss_area[1] < loss.item() < loss_area[2]:\n",
    "                        loss.backward()\n",
    "                    self.optimizer.step()\n",
    "                    if (self.step % val_per_train == 0) and (self.val_data is not None):\n",
    "                        val_batch = next(val_datas)\n",
    "                        val_target = val_batch[targ].to(self.device).reshape(-1) * data_scale\n",
    "\n",
    "                        val_out = self.model(pos=torch.tensor(val_batch.pos, device=self.device, dtype=torch.float32),\n",
    "                                             z=val_batch.z.to(self.device),\n",
    "                                             batch=val_batch.batch.to(self.device),\n",
    "                                             box=val_batch.box.to(self.device),\n",
    "                                             ).reshape(val_target.shape)\n",
    "                        val_loss = self.loss_function(val_out, val_target).item()\n",
    "                        val_mae = l1loss(val_out, val_target).item()\n",
    "                        val_R2 = R2(val_out, val_target).item()\n",
    "                        # 写入 log 文件\n",
    "                        log_file.write(f\"{self.step}\\t{val_loss:.8f}\\t{val_mae:.8f}\\t{val_R2:.8f}\\n\")\n",
    "                \n",
    "                        if self.step % print_per_epoch == 0:\n",
    "                            print('Epoch[{}/{}],loss:{:.8f},val_loss:{:.8f},val_mae:{:.8f},val_R2:{:.8f}'\n",
    "                                  .format(self.step, num_epoch * len_train, loss.item(), val_loss, val_mae, val_R2))\n",
    "\n",
    "                            if view_data:\n",
    "                                print('valout:{:.8f},valtarget:{:.8f}'.format(val_out.flatten()[0].item(),\n",
    "                                                                               val_target.flatten()[0].item()))\n",
    "                except RuntimeError as e:\n",
    "                    print(f\"Encountered RuntimeError: {e}. Skipping current batch.\")\n",
    "                    continue\n",
    "                except Exception as e:\n",
    "                    print(f\"Encountered unexpected error: {e}. Skipping current batch.\")\n",
    "                    continue\n",
    "                \n",
    "                assert (loss > stop_loss) or (val_loss > stop_loss),'Training and prediction Loss is less' \\\n",
    "                                                                    ' than cut-off Loss, so training stops'\n",
    "                if (self.step % print_per_epoch == 0) and (self.step%val_per_train!=0):\n",
    "                    print('Epoch[{}/{}],loss:{:.8f}'.format(self.step,num_epoch*len_train, loss.item()))\n",
    "                if self.step%500==0:\n",
    "                    self.save_param(path+str(self.step)+'.pth')\n",
    "    def load_state_and_optimizer(self,state_path=None,optimizer_path=None):\n",
    "        if state_path is not None:\n",
    "            state_dict=torch.load(state_path)\n",
    "            self.model.load_state_dict(state_dict)\n",
    "        if optimizer_path is not None:\n",
    "            self.optimizer=torch.load(optimizer_path)\n",
    "\n",
    "    def save_param(self,path):\n",
    "        torch.save(self.model.state_dict(),path)\n",
    "\n",
    "    def save_model(self,path):\n",
    "        torch.save(self.model, path)\n",
    "\n",
    "    def save_opt(self,path):\n",
    "        torch.save(self.optimizer,path)\n",
    "\n",
    "    def params(self):\n",
    "        return self.model.state_dict()\n",
    "\n",
    "\n",
    "    def load_state_and_optimizer(self,state_path=None,optimizer_path=None):\n",
    "        if state_path is not None:\n",
    "            state_dict=torch.load(state_path)\n",
    "            self.model.load_state_dict(state_dict)\n",
    "        if optimizer_path is not None:\n",
    "            self.optimizer=torch.load(optimizer_path)\n",
    "\n",
    "    def save_param(self,path):\n",
    "        torch.save(self.model.state_dict(),path)\n",
    "\n",
    "    def save_model(self,path):\n",
    "        torch.save(self.model, path)\n",
    "\n",
    "    def save_opt(self,path):\n",
    "        torch.save(self.optimizer,path)\n",
    "\n",
    "    def params(self):\n",
    "        return self.model.state_dict()"
   ]
  },
  {
   "cell_type": "code",
   "execution_count": 6,
   "id": "c8806816",
   "metadata": {},
   "outputs": [
    {
     "name": "stderr",
     "output_type": "stream",
     "text": [
      "/tmp/ipykernel_115842/659291847.py:1: FutureWarning: You are using `torch.load` with `weights_only=False` (the current default value), which uses the default pickle module implicitly. It is possible to construct malicious pickle data which will execute arbitrary code during unpickling (See https://github.com/pytorch/pytorch/blob/main/SECURITY.md#untrusted-models for more details). In a future release, the default value for `weights_only` will be flipped to `True`. This limits the functions that could be executed during unpickling. Arbitrary objects will no longer be allowed to be loaded via this mode unless they are explicitly allowlisted by the user via `torch.serialization.add_safe_globals`. We recommend you start setting `weights_only=True` for any use case where you don't have full control of the loaded file. Please open an issue on GitHub for any issues related to this experimental feature.\n",
      "  datasets=torch.load('/home/huwei22/jishengjiao/detanet/cp2k_data/paracetamol_dipole/H9C8NO2_force_energy_dipole_35495_warp.pt')\n"
     ]
    },
    {
     "name": "stdout",
     "output_type": "stream",
     "text": [
      "500\n"
     ]
    }
   ],
   "source": [
    "datasets=torch.load('/H9C8NO2.pt')"
   ]
  },
  {
   "cell_type": "code",
   "execution_count": 7,
   "id": "cde5be91",
   "metadata": {},
   "outputs": [
    {
     "name": "stdout",
     "output_type": "stream",
     "text": [
      "450\n",
      "Data(pos=[80, 3], z=[80], box=[1, 3, 3], targ=[80, 3])\n",
      "50\n",
      "Data(pos=[80, 3], z=[80], box=[1, 3, 3], targ=[80, 3])\n"
     ]
    }
   ],
   "source": [
    "train_datasets=[]\n",
    "val_datasets1=[]\n",
    "for i in range(len(datasets)):\n",
    "    zerr=0\n",
    "    targ='force'\n",
    "    data=datasets[i]\n",
    "    data_=Data(pos=data.pos,z=data.z,box=data.box,targ=data[targ])\n",
    "    if zerr==0:\n",
    "        if i%(10*1)==0:\n",
    "            val_datasets1.append(data_)\n",
    "        else:\n",
    "            train_datasets.append(data_)\n",
    "    else:\n",
    "        print('error',data.smile)\n",
    "print(len(train_datasets))\n",
    "print(train_datasets[0])\n",
    "print(len(val_datasets1))\n",
    "print(val_datasets1[0])"
   ]
  },
  {
   "cell_type": "code",
   "execution_count": 8,
   "id": "2d55a1bd",
   "metadata": {},
   "outputs": [
    {
     "name": "stdout",
     "output_type": "stream",
     "text": [
      "25\n",
      "25\n"
     ]
    }
   ],
   "source": [
    "val_datasets=[]\n",
    "test_datasets = []\n",
    "for i in range(len(val_datasets1)):\n",
    "    d = val_datasets1[i]\n",
    "    if i % (2*1) == 0:\n",
    "        val_datasets.append(d)\n",
    "    else:\n",
    "        test_datasets.append(d)\n",
    "print(len(val_datasets))\n",
    "print(len(test_datasets))"
   ]
  },
  {
   "cell_type": "code",
   "execution_count": 9,
   "id": "35543ad5",
   "metadata": {},
   "outputs": [],
   "source": [
    "bathes=16\n",
    "# train_datasets = torch.load('train3000.pt')\n",
    "# val_datasets = torch.load('val3000.pt')\n",
    "trainloader=DataLoader(train_datasets,batch_size=bathes,shuffle=True)\n",
    "valloader=DataLoader(val_datasets,batch_size=bathes,shuffle=True)"
   ]
  },
  {
   "cell_type": "code",
   "execution_count": 11,
   "id": "db00c88a",
   "metadata": {},
   "outputs": [],
   "source": [
    "device=torch.device('cuda')\n",
    "dtype=torch.float32\n",
    "model=model.to(dtype)\n",
    "model=model.to(device)\n",
    "#optimizer=torch.optim.Adam(model.parameters(),lr=1e-3)"
   ]
  },
  {
   "cell_type": "code",
   "execution_count": 12,
   "id": "3ec211bc",
   "metadata": {},
   "outputs": [],
   "source": [
    "path = '/force/force'"
   ]
  },
  {
   "cell_type": "code",
   "execution_count": 13,
   "id": "6b9757ac",
   "metadata": {},
   "outputs": [],
   "source": [
    "trainer=Trainer(model,train_loader=trainloader,val_loader=valloader,loss_function=l2loss,lr=1e-3,weight_decay=0,optimizer='AdamW')"
   ]
  },
  {
   "cell_type": "code",
   "execution_count": 14,
   "id": "fcdaab1e",
   "metadata": {
    "scrolled": true
   },
   "outputs": [
    {
     "name": "stdout",
     "output_type": "stream",
     "text": [
      "Epoch[0/290],loss:0.76018971,val_loss:1.51074564,val_mae:0.94692457,val_R2:-2.08769059\n",
      "Epoch[10/290],loss:0.21273141\n",
      "Epoch[20/290],loss:0.18780869\n",
      "Epoch[30/290],loss:0.16790709\n",
      "Epoch[40/290],loss:0.16112576\n",
      "Epoch[50/290],loss:0.13113967,val_loss:0.13036703,val_mae:0.25381136,val_R2:0.71193433\n",
      "Epoch[60/290],loss:0.13246863\n",
      "Epoch[70/290],loss:0.13770199\n",
      "Epoch[80/290],loss:0.11606736\n",
      "Epoch[90/290],loss:0.12170154\n",
      "Epoch[100/290],loss:0.10811009,val_loss:0.10781800,val_mae:0.23870926,val_R2:0.77184826\n",
      "Epoch[110/290],loss:0.11641143\n",
      "Epoch[120/290],loss:0.09998190\n",
      "Epoch[130/290],loss:0.10679995\n",
      "Epoch[140/290],loss:0.10076512\n",
      "Epoch[150/290],loss:0.09589428,val_loss:0.09241914,val_mae:0.21891621,val_R2:0.80936545\n",
      "Epoch[160/290],loss:0.10025460\n",
      "Epoch[170/290],loss:0.09429752\n",
      "Epoch[180/290],loss:0.09340759\n",
      "Epoch[190/290],loss:0.09809297\n",
      "Epoch[200/290],loss:0.08201345,val_loss:0.08098060,val_mae:0.20880041,val_R2:0.84436560\n",
      "Epoch[210/290],loss:0.08444451\n",
      "Epoch[220/290],loss:0.07287866\n",
      "Epoch[230/290],loss:0.07435686\n",
      "Epoch[240/290],loss:0.08213171\n",
      "Epoch[250/290],loss:0.06891745,val_loss:0.06804226,val_mae:0.19257513,val_R2:0.86339492\n",
      "Epoch[260/290],loss:0.07358538\n",
      "Epoch[270/290],loss:0.06786182\n",
      "Epoch[280/290],loss:0.07252803\n"
     ]
    }
   ],
   "source": [
    "trainer.train(num_epoch=10,stop_loss=0,targ='targ',val_per_train=50,view_data=False,print_per_epoch=10,loss_area=[100,1e-8,10000])"
   ]
  },
  {
   "cell_type": "code",
   "execution_count": 15,
   "id": "157938f2",
   "metadata": {},
   "outputs": [],
   "source": [
    "trainer.save_param('/force/force1.pth')"
   ]
  },
  {
   "cell_type": "code",
   "execution_count": 16,
   "id": "4271107a",
   "metadata": {},
   "outputs": [
    {
     "name": "stderr",
     "output_type": "stream",
     "text": [
      "/tmp/ipykernel_115842/1719440978.py:1: FutureWarning: You are using `torch.load` with `weights_only=False` (the current default value), which uses the default pickle module implicitly. It is possible to construct malicious pickle data which will execute arbitrary code during unpickling (See https://github.com/pytorch/pytorch/blob/main/SECURITY.md#untrusted-models for more details). In a future release, the default value for `weights_only` will be flipped to `True`. This limits the functions that could be executed during unpickling. Arbitrary objects will no longer be allowed to be loaded via this mode unless they are explicitly allowlisted by the user via `torch.serialization.add_safe_globals`. We recommend you start setting `weights_only=True` for any use case where you don't have full control of the loaded file. Please open an issue on GitHub for any issues related to this experimental feature.\n",
      "  model.load_state_dict(torch.load('/home/huwei22/jishengjiao/detanet/trained_param_paracetamol/force_500/force1.pth'))\n"
     ]
    },
    {
     "data": {
      "text/plain": [
       "<All keys matched successfully>"
      ]
     },
     "execution_count": 16,
     "metadata": {},
     "output_type": "execute_result"
    }
   ],
   "source": [
    "model.load_state_dict(torch.load('/force/force1.pth'))"
   ]
  },
  {
   "cell_type": "code",
   "execution_count": 17,
   "id": "2b8c9116",
   "metadata": {},
   "outputs": [],
   "source": [
    "#path = 'train_p/time_save/force/force2/force'"
   ]
  },
  {
   "cell_type": "code",
   "execution_count": 18,
   "id": "801ca789",
   "metadata": {},
   "outputs": [],
   "source": [
    "trainer=Trainer(model,train_loader=trainloader,val_loader=valloader,loss_function=l2loss,lr=4e-4,weight_decay=0,optimizer='AdamW')"
   ]
  },
  {
   "cell_type": "code",
   "execution_count": 19,
   "id": "2a57c83c",
   "metadata": {
    "scrolled": true
   },
   "outputs": [
    {
     "name": "stdout",
     "output_type": "stream",
     "text": [
      "Epoch[0/290],loss:0.07127935,val_loss:0.19025539,val_mae:0.31627303,val_R2:0.58523321\n",
      "Epoch[10/290],loss:0.08295422\n",
      "Epoch[20/290],loss:0.06956093\n",
      "Epoch[30/290],loss:0.06932035\n",
      "Epoch[40/290],loss:0.06396323\n",
      "Epoch[50/290],loss:0.05834263,val_loss:0.05450312,val_mae:0.16900483,val_R2:0.88303685\n",
      "Epoch[60/290],loss:0.05612916\n",
      "Epoch[70/290],loss:0.05940564\n",
      "Epoch[80/290],loss:0.05159123\n",
      "Epoch[90/290],loss:0.05966023\n",
      "Epoch[100/290],loss:0.05658167,val_loss:0.04798416,val_mae:0.16087058,val_R2:0.89873558\n",
      "Epoch[110/290],loss:0.05666075\n",
      "Epoch[120/290],loss:0.05446865\n",
      "Epoch[130/290],loss:0.05126342\n",
      "Epoch[140/290],loss:0.04911235\n",
      "Epoch[150/290],loss:0.05166174,val_loss:0.04623088,val_mae:0.15920888,val_R2:0.90181774\n",
      "Epoch[160/290],loss:0.04245992\n",
      "Epoch[170/290],loss:0.04630632\n",
      "Epoch[180/290],loss:0.05037106\n",
      "Epoch[190/290],loss:0.04386312\n",
      "Epoch[200/290],loss:0.04339999,val_loss:0.03992602,val_mae:0.14917356,val_R2:0.91550422\n",
      "Epoch[210/290],loss:0.04126164\n",
      "Epoch[220/290],loss:0.04092456\n",
      "Epoch[230/290],loss:0.03661731\n",
      "Epoch[240/290],loss:0.04576214\n",
      "Epoch[250/290],loss:0.04282494,val_loss:0.03240902,val_mae:0.13386813,val_R2:0.92758989\n",
      "Epoch[260/290],loss:0.04202557\n",
      "Epoch[270/290],loss:0.03529241\n",
      "Epoch[280/290],loss:0.03522282\n"
     ]
    }
   ],
   "source": [
    "trainer.train(num_epoch=10,stop_loss=0,targ='targ',val_per_train=50,view_data=False,print_per_epoch=10,loss_area=[100,1e-8,10000])"
   ]
  },
  {
   "cell_type": "code",
   "execution_count": 20,
   "id": "6fbb701a",
   "metadata": {
    "scrolled": true
   },
   "outputs": [],
   "source": [
    "trainer.save_param('/force/force2.pth')"
   ]
  },
  {
   "cell_type": "code",
   "execution_count": 21,
   "id": "59626ebd",
   "metadata": {},
   "outputs": [
    {
     "name": "stderr",
     "output_type": "stream",
     "text": [
      "/tmp/ipykernel_115842/2550555366.py:1: FutureWarning: You are using `torch.load` with `weights_only=False` (the current default value), which uses the default pickle module implicitly. It is possible to construct malicious pickle data which will execute arbitrary code during unpickling (See https://github.com/pytorch/pytorch/blob/main/SECURITY.md#untrusted-models for more details). In a future release, the default value for `weights_only` will be flipped to `True`. This limits the functions that could be executed during unpickling. Arbitrary objects will no longer be allowed to be loaded via this mode unless they are explicitly allowlisted by the user via `torch.serialization.add_safe_globals`. We recommend you start setting `weights_only=True` for any use case where you don't have full control of the loaded file. Please open an issue on GitHub for any issues related to this experimental feature.\n",
      "  model.load_state_dict(torch.load('/home/huwei22/jishengjiao/detanet/trained_param_paracetamol/force_500/force2.pth'))\n"
     ]
    },
    {
     "data": {
      "text/plain": [
       "<All keys matched successfully>"
      ]
     },
     "execution_count": 21,
     "metadata": {},
     "output_type": "execute_result"
    }
   ],
   "source": [
    "model.load_state_dict(torch.load('/force/force2.pth'))"
   ]
  },
  {
   "cell_type": "code",
   "execution_count": 23,
   "id": "482c6d93",
   "metadata": {},
   "outputs": [],
   "source": [
    "trainer=Trainer(model,train_loader=trainloader,val_loader=valloader,loss_function=l2loss,lr=2e-4,weight_decay=0,optimizer='AdamW')"
   ]
  },
  {
   "cell_type": "code",
   "execution_count": 24,
   "id": "38cb4138",
   "metadata": {
    "scrolled": true
   },
   "outputs": [
    {
     "name": "stdout",
     "output_type": "stream",
     "text": [
      "Epoch[0/290],loss:0.03425516,val_loss:0.10426765,val_mae:0.22947307,val_R2:0.78632641\n",
      "Epoch[10/290],loss:0.04797443\n",
      "Epoch[20/290],loss:0.03527195\n",
      "Epoch[30/290],loss:0.03601695\n",
      "Epoch[40/290],loss:0.03057639\n",
      "Epoch[50/290],loss:0.03272638,val_loss:0.02817344,val_mae:0.12517577,val_R2:0.94256431\n",
      "Epoch[60/290],loss:0.02859977\n",
      "Epoch[70/290],loss:0.03007060\n",
      "Epoch[80/290],loss:0.02715768\n",
      "Epoch[90/290],loss:0.02656628\n",
      "Epoch[100/290],loss:0.03080537,val_loss:0.02711016,val_mae:0.12335425,val_R2:0.94256574\n",
      "Epoch[110/290],loss:0.02717419\n",
      "Epoch[120/290],loss:0.02699777\n",
      "Epoch[130/290],loss:0.02575174\n",
      "Epoch[140/290],loss:0.02245147\n",
      "Epoch[150/290],loss:0.02535047,val_loss:0.02563528,val_mae:0.12045695,val_R2:0.94751728\n",
      "Epoch[160/290],loss:0.02624718\n",
      "Epoch[170/290],loss:0.02619005\n",
      "Epoch[180/290],loss:0.02509644\n",
      "Epoch[190/290],loss:0.02388595\n",
      "Epoch[200/290],loss:0.02291097,val_loss:0.02161923,val_mae:0.11062668,val_R2:0.95331955\n",
      "Epoch[210/290],loss:0.02315632\n",
      "Epoch[220/290],loss:0.02175741\n",
      "Epoch[230/290],loss:0.02156640\n",
      "Epoch[240/290],loss:0.02107312\n",
      "Epoch[250/290],loss:0.02250613,val_loss:0.02288056,val_mae:0.11330286,val_R2:0.95501441\n",
      "Epoch[260/290],loss:0.01937946\n",
      "Epoch[270/290],loss:0.02142385\n",
      "Epoch[280/290],loss:0.01961185\n"
     ]
    }
   ],
   "source": [
    "trainer.train(num_epoch=10,stop_loss=0,targ='targ',val_per_train=50,view_data=False,print_per_epoch=10,loss_area=[100,1e-8,1000])"
   ]
  },
  {
   "cell_type": "code",
   "execution_count": 25,
   "id": "31340d1f",
   "metadata": {},
   "outputs": [],
   "source": [
    "trainer.save_param('/force/force3.pth')"
   ]
  },
  {
   "cell_type": "code",
   "execution_count": 26,
   "id": "c058a78d",
   "metadata": {},
   "outputs": [
    {
     "name": "stderr",
     "output_type": "stream",
     "text": [
      "/tmp/ipykernel_115842/1724160159.py:1: FutureWarning: You are using `torch.load` with `weights_only=False` (the current default value), which uses the default pickle module implicitly. It is possible to construct malicious pickle data which will execute arbitrary code during unpickling (See https://github.com/pytorch/pytorch/blob/main/SECURITY.md#untrusted-models for more details). In a future release, the default value for `weights_only` will be flipped to `True`. This limits the functions that could be executed during unpickling. Arbitrary objects will no longer be allowed to be loaded via this mode unless they are explicitly allowlisted by the user via `torch.serialization.add_safe_globals`. We recommend you start setting `weights_only=True` for any use case where you don't have full control of the loaded file. Please open an issue on GitHub for any issues related to this experimental feature.\n",
      "  model.load_state_dict(torch.load('/home/huwei22/jishengjiao/detanet/trained_param_paracetamol/force_500/force3.pth'))\n"
     ]
    },
    {
     "data": {
      "text/plain": [
       "<All keys matched successfully>"
      ]
     },
     "execution_count": 26,
     "metadata": {},
     "output_type": "execute_result"
    }
   ],
   "source": [
    "model.load_state_dict(torch.load('/force/force3.pth'))"
   ]
  },
  {
   "cell_type": "code",
   "execution_count": 28,
   "id": "b86e898e",
   "metadata": {},
   "outputs": [],
   "source": [
    "trainer=Trainer(model,train_loader=trainloader,val_loader=valloader,loss_function=l2loss,lr=1e-4,weight_decay=0,optimizer='AdamW')"
   ]
  },
  {
   "cell_type": "code",
   "execution_count": 29,
   "id": "4087b931",
   "metadata": {
    "scrolled": true
   },
   "outputs": [
    {
     "name": "stdout",
     "output_type": "stream",
     "text": [
      "Epoch[0/290],loss:0.02218992,val_loss:0.04106823,val_mae:0.14933933,val_R2:0.91096538\n",
      "Epoch[10/290],loss:0.02222051\n",
      "Epoch[20/290],loss:0.01985919\n",
      "Epoch[30/290],loss:0.02023347\n",
      "Epoch[40/290],loss:0.02028009\n",
      "Epoch[50/290],loss:0.01720220,val_loss:0.01936360,val_mae:0.10445476,val_R2:0.96155125\n",
      "Epoch[60/290],loss:0.01712959\n",
      "Epoch[70/290],loss:0.01801037\n",
      "Epoch[80/290],loss:0.01791938\n",
      "Epoch[90/290],loss:0.02028107\n",
      "Epoch[100/290],loss:0.01790426,val_loss:0.01832422,val_mae:0.10246880,val_R2:0.96387547\n",
      "Epoch[110/290],loss:0.01590887\n",
      "Epoch[120/290],loss:0.01776044\n",
      "Epoch[130/290],loss:0.01951667\n",
      "Epoch[140/290],loss:0.01707743\n",
      "Epoch[150/290],loss:0.01858935,val_loss:0.01762163,val_mae:0.10071072,val_R2:0.96421665\n",
      "Epoch[160/290],loss:0.01628329\n",
      "Epoch[170/290],loss:0.01783650\n",
      "Epoch[180/290],loss:0.01874342\n",
      "Epoch[190/290],loss:0.01769406\n",
      "Epoch[200/290],loss:0.01757780,val_loss:0.01692088,val_mae:0.09882487,val_R2:0.96807152\n",
      "Epoch[210/290],loss:0.01823177\n",
      "Epoch[220/290],loss:0.01691562\n",
      "Epoch[230/290],loss:0.01561032\n",
      "Epoch[240/290],loss:0.01609126\n",
      "Epoch[250/290],loss:0.01676626,val_loss:0.01624691,val_mae:0.09631377,val_R2:0.96731335\n",
      "Epoch[260/290],loss:0.01629756\n",
      "Epoch[270/290],loss:0.01666319\n",
      "Epoch[280/290],loss:0.01539588\n"
     ]
    }
   ],
   "source": [
    "trainer.train(num_epoch=10,stop_loss=0,targ='targ',val_per_train=50,view_data=False,print_per_epoch=10,loss_area=[100,1e-8,1000])"
   ]
  },
  {
   "cell_type": "code",
   "execution_count": 30,
   "id": "4981797e",
   "metadata": {},
   "outputs": [],
   "source": [
    "trainer.save_param('/force/force4.pth')"
   ]
  },
  {
   "cell_type": "code",
   "execution_count": 31,
   "id": "13f17837",
   "metadata": {},
   "outputs": [
    {
     "name": "stderr",
     "output_type": "stream",
     "text": [
      "/tmp/ipykernel_115842/438193194.py:1: FutureWarning: You are using `torch.load` with `weights_only=False` (the current default value), which uses the default pickle module implicitly. It is possible to construct malicious pickle data which will execute arbitrary code during unpickling (See https://github.com/pytorch/pytorch/blob/main/SECURITY.md#untrusted-models for more details). In a future release, the default value for `weights_only` will be flipped to `True`. This limits the functions that could be executed during unpickling. Arbitrary objects will no longer be allowed to be loaded via this mode unless they are explicitly allowlisted by the user via `torch.serialization.add_safe_globals`. We recommend you start setting `weights_only=True` for any use case where you don't have full control of the loaded file. Please open an issue on GitHub for any issues related to this experimental feature.\n",
      "  model.load_state_dict(torch.load('/home/huwei22/jishengjiao/detanet/trained_param_paracetamol/force_500/force4.pth'))\n"
     ]
    },
    {
     "data": {
      "text/plain": [
       "<All keys matched successfully>"
      ]
     },
     "execution_count": 31,
     "metadata": {},
     "output_type": "execute_result"
    }
   ],
   "source": [
    "model.load_state_dict(torch.load('/force/force4.pth'))"
   ]
  },
  {
   "cell_type": "code",
   "execution_count": 32,
   "id": "7b32f9e2",
   "metadata": {},
   "outputs": [],
   "source": [
    "#path = 'train_p/time_save/force/force5/force'"
   ]
  },
  {
   "cell_type": "code",
   "execution_count": 33,
   "id": "52a322ac",
   "metadata": {},
   "outputs": [],
   "source": [
    "trainer=Trainer(model,train_loader=trainloader,val_loader=valloader,loss_function=l2loss,lr=4e-5,weight_decay=0,optimizer='AdamW')"
   ]
  },
  {
   "cell_type": "code",
   "execution_count": 34,
   "id": "0f1d0baf",
   "metadata": {
    "scrolled": true
   },
   "outputs": [
    {
     "name": "stdout",
     "output_type": "stream",
     "text": [
      "Epoch[0/290],loss:0.01445059,val_loss:0.01621512,val_mae:0.09749524,val_R2:0.96533018\n",
      "Epoch[10/290],loss:0.01644113\n",
      "Epoch[20/290],loss:0.01492754\n",
      "Epoch[30/290],loss:0.01555077\n",
      "Epoch[40/290],loss:0.01517836\n",
      "Epoch[50/290],loss:0.01522112,val_loss:0.01434114,val_mae:0.09079600,val_R2:0.96871352\n",
      "Epoch[60/290],loss:0.01447202\n",
      "Epoch[70/290],loss:0.01471879\n",
      "Epoch[80/290],loss:0.01358399\n",
      "Epoch[90/290],loss:0.01299797\n",
      "Epoch[100/290],loss:0.01443298,val_loss:0.01412449,val_mae:0.08954899,val_R2:0.96995491\n",
      "Epoch[110/290],loss:0.01352593\n",
      "Epoch[120/290],loss:0.01347463\n",
      "Epoch[130/290],loss:0.01348770\n",
      "Epoch[140/290],loss:0.01283206\n",
      "Epoch[150/290],loss:0.01378454,val_loss:0.01415422,val_mae:0.09091183,val_R2:0.97075903\n",
      "Epoch[160/290],loss:0.01322082\n",
      "Epoch[170/290],loss:0.01412587\n",
      "Epoch[180/290],loss:0.01301906\n",
      "Epoch[190/290],loss:0.01258375\n",
      "Epoch[200/290],loss:0.01374014,val_loss:0.01311411,val_mae:0.08677372,val_R2:0.97211665\n",
      "Epoch[210/290],loss:0.01388073\n",
      "Epoch[220/290],loss:0.01221910\n",
      "Epoch[230/290],loss:0.01374657\n",
      "Epoch[240/290],loss:0.01392920\n",
      "Epoch[250/290],loss:0.01290553,val_loss:0.01325297,val_mae:0.08766377,val_R2:0.97181499\n",
      "Epoch[260/290],loss:0.01129087\n",
      "Epoch[270/290],loss:0.01343464\n",
      "Epoch[280/290],loss:0.01301978\n"
     ]
    }
   ],
   "source": [
    "trainer.train(num_epoch=10,stop_loss=0,targ='targ',val_per_train=50,view_data=False,print_per_epoch=10,loss_area=[100,1e-8,1000])"
   ]
  },
  {
   "cell_type": "code",
   "execution_count": 35,
   "id": "02f5fe00",
   "metadata": {},
   "outputs": [],
   "source": [
    " trainer.save_param('/force/force5.pth')"
   ]
  },
  {
   "cell_type": "code",
   "execution_count": 36,
   "id": "481a196e",
   "metadata": {},
   "outputs": [
    {
     "name": "stderr",
     "output_type": "stream",
     "text": [
      "/tmp/ipykernel_115842/1429092659.py:1: FutureWarning: You are using `torch.load` with `weights_only=False` (the current default value), which uses the default pickle module implicitly. It is possible to construct malicious pickle data which will execute arbitrary code during unpickling (See https://github.com/pytorch/pytorch/blob/main/SECURITY.md#untrusted-models for more details). In a future release, the default value for `weights_only` will be flipped to `True`. This limits the functions that could be executed during unpickling. Arbitrary objects will no longer be allowed to be loaded via this mode unless they are explicitly allowlisted by the user via `torch.serialization.add_safe_globals`. We recommend you start setting `weights_only=True` for any use case where you don't have full control of the loaded file. Please open an issue on GitHub for any issues related to this experimental feature.\n",
      "  model.load_state_dict(torch.load('/home/huwei22/jishengjiao/detanet/trained_param_paracetamol/force_500/force5.pth'))\n"
     ]
    },
    {
     "data": {
      "text/plain": [
       "<All keys matched successfully>"
      ]
     },
     "execution_count": 36,
     "metadata": {},
     "output_type": "execute_result"
    }
   ],
   "source": [
    "model.load_state_dict(torch.load('/force/force5.pth'))"
   ]
  },
  {
   "cell_type": "code",
   "execution_count": 38,
   "id": "d6222e84",
   "metadata": {},
   "outputs": [],
   "source": [
    "trainer=Trainer(model,train_loader=trainloader,val_loader=valloader,loss_function=l2loss,lr=2e-5,weight_decay=0,optimizer='AdamW')"
   ]
  },
  {
   "cell_type": "code",
   "execution_count": 39,
   "id": "69bf4684",
   "metadata": {
    "scrolled": true
   },
   "outputs": [
    {
     "name": "stdout",
     "output_type": "stream",
     "text": [
      "Epoch[0/290],loss:0.01343032,val_loss:0.01324860,val_mae:0.08845792,val_R2:0.97224039\n",
      "Epoch[10/290],loss:0.01379818\n",
      "Epoch[20/290],loss:0.01273184\n",
      "Epoch[30/290],loss:0.01274890\n",
      "Epoch[40/290],loss:0.01214328\n",
      "Epoch[50/290],loss:0.01241106,val_loss:0.01279065,val_mae:0.08684883,val_R2:0.97394383\n",
      "Epoch[60/290],loss:0.01261852\n",
      "Epoch[70/290],loss:0.01308259\n",
      "Epoch[80/290],loss:0.01175358\n",
      "Epoch[90/290],loss:0.01250714\n",
      "Epoch[100/290],loss:0.01214932,val_loss:0.01315524,val_mae:0.08729521,val_R2:0.97226989\n",
      "Epoch[110/290],loss:0.01331374\n",
      "Epoch[120/290],loss:0.01352489\n",
      "Epoch[130/290],loss:0.01088258\n",
      "Epoch[140/290],loss:0.01279699\n",
      "Epoch[150/290],loss:0.01286738,val_loss:0.01273606,val_mae:0.08639078,val_R2:0.97344536\n",
      "Epoch[160/290],loss:0.01321439\n",
      "Epoch[170/290],loss:0.01178176\n",
      "Epoch[180/290],loss:0.01169926\n",
      "Epoch[190/290],loss:0.01224225\n",
      "Epoch[200/290],loss:0.01272799,val_loss:0.01297366,val_mae:0.08640943,val_R2:0.97373813\n",
      "Epoch[210/290],loss:0.01184660\n",
      "Epoch[220/290],loss:0.01162216\n",
      "Epoch[230/290],loss:0.01116220\n",
      "Epoch[240/290],loss:0.01173890\n",
      "Epoch[250/290],loss:0.01158810,val_loss:0.01304589,val_mae:0.08702694,val_R2:0.97476774\n",
      "Epoch[260/290],loss:0.01372837\n",
      "Epoch[270/290],loss:0.01161551\n",
      "Epoch[280/290],loss:0.01200784\n"
     ]
    }
   ],
   "source": [
    "trainer.train(num_epoch=10,stop_loss=0,targ='targ',val_per_train=50,view_data=False,print_per_epoch=10,loss_area=[100,1e-8,1000])"
   ]
  },
  {
   "cell_type": "code",
   "execution_count": 40,
   "id": "39712ee5",
   "metadata": {},
   "outputs": [],
   "source": [
    "trainer.save_param('/force/force6.pth')"
   ]
  },
  {
   "cell_type": "code",
   "execution_count": 41,
   "id": "f2cbe285",
   "metadata": {},
   "outputs": [
    {
     "name": "stderr",
     "output_type": "stream",
     "text": [
      "/tmp/ipykernel_115842/2371075721.py:1: FutureWarning: You are using `torch.load` with `weights_only=False` (the current default value), which uses the default pickle module implicitly. It is possible to construct malicious pickle data which will execute arbitrary code during unpickling (See https://github.com/pytorch/pytorch/blob/main/SECURITY.md#untrusted-models for more details). In a future release, the default value for `weights_only` will be flipped to `True`. This limits the functions that could be executed during unpickling. Arbitrary objects will no longer be allowed to be loaded via this mode unless they are explicitly allowlisted by the user via `torch.serialization.add_safe_globals`. We recommend you start setting `weights_only=True` for any use case where you don't have full control of the loaded file. Please open an issue on GitHub for any issues related to this experimental feature.\n",
      "  model.load_state_dict(torch.load('/home/huwei22/jishengjiao/detanet/trained_param_paracetamol/force_500/force6.pth'))\n"
     ]
    },
    {
     "data": {
      "text/plain": [
       "<All keys matched successfully>"
      ]
     },
     "execution_count": 41,
     "metadata": {},
     "output_type": "execute_result"
    }
   ],
   "source": [
    "model.load_state_dict(torch.load('/force/force6.pth'))"
   ]
  },
  {
   "cell_type": "code",
   "execution_count": 43,
   "id": "2fb2a70f",
   "metadata": {},
   "outputs": [],
   "source": [
    "trainer=Trainer(model,train_loader=trainloader,val_loader=valloader,loss_function=l2loss,lr=1e-5,weight_decay=0,optimizer='AdamW')"
   ]
  },
  {
   "cell_type": "code",
   "execution_count": 44,
   "id": "6c33dad4",
   "metadata": {
    "scrolled": true
   },
   "outputs": [
    {
     "name": "stdout",
     "output_type": "stream",
     "text": [
      "Epoch[0/290],loss:0.01282605,val_loss:0.01206865,val_mae:0.08387186,val_R2:0.97381079\n",
      "Epoch[10/290],loss:0.01265533\n",
      "Epoch[20/290],loss:0.01164786\n",
      "Epoch[30/290],loss:0.01336333\n",
      "Epoch[40/290],loss:0.01278815\n",
      "Epoch[50/290],loss:0.01124822,val_loss:0.01263928,val_mae:0.08572491,val_R2:0.97501832\n",
      "Epoch[60/290],loss:0.01221141\n",
      "Epoch[70/290],loss:0.01151027\n",
      "Epoch[80/290],loss:0.01168785\n",
      "Epoch[90/290],loss:0.01309227\n",
      "Epoch[100/290],loss:0.01258653,val_loss:0.01240768,val_mae:0.08466619,val_R2:0.97543782\n",
      "Epoch[110/290],loss:0.01105412\n",
      "Epoch[120/290],loss:0.01193233\n",
      "Epoch[130/290],loss:0.01152368\n",
      "Epoch[140/290],loss:0.01116051\n",
      "Epoch[150/290],loss:0.01067755,val_loss:0.01160874,val_mae:0.08232661,val_R2:0.97555006\n",
      "Epoch[160/290],loss:0.01162575\n",
      "Epoch[170/290],loss:0.01218070\n",
      "Epoch[180/290],loss:0.01177443\n",
      "Epoch[190/290],loss:0.01133983\n",
      "Epoch[200/290],loss:0.01185577,val_loss:0.01204291,val_mae:0.08335063,val_R2:0.97530103\n",
      "Epoch[210/290],loss:0.01053692\n",
      "Epoch[220/290],loss:0.01248921\n",
      "Epoch[230/290],loss:0.01156957\n",
      "Epoch[240/290],loss:0.01228026\n",
      "Epoch[250/290],loss:0.01148348,val_loss:0.01177888,val_mae:0.08263536,val_R2:0.97352928\n",
      "Epoch[260/290],loss:0.01315231\n",
      "Epoch[270/290],loss:0.01166697\n",
      "Epoch[280/290],loss:0.01209121\n"
     ]
    }
   ],
   "source": [
    "trainer.train(num_epoch=10,stop_loss=0,targ='targ',val_per_train=50,view_data=False,print_per_epoch=10,loss_area=[100,1e-8,1000])"
   ]
  },
  {
   "cell_type": "code",
   "execution_count": 45,
   "id": "8c31a0e0",
   "metadata": {},
   "outputs": [],
   "source": [
    "trainer.save_param('/force/force7.pth')"
   ]
  },
  {
   "cell_type": "code",
   "execution_count": null,
   "id": "bc442bfc",
   "metadata": {},
   "outputs": [],
   "source": []
  },
  {
   "cell_type": "code",
   "execution_count": null,
   "id": "78001a28",
   "metadata": {},
   "outputs": [],
   "source": []
  },
  {
   "cell_type": "code",
   "execution_count": null,
   "id": "b3dc3aeb",
   "metadata": {},
   "outputs": [],
   "source": []
  },
  {
   "cell_type": "code",
   "execution_count": null,
   "id": "300cac5d",
   "metadata": {},
   "outputs": [],
   "source": []
  },
  {
   "cell_type": "code",
   "execution_count": null,
   "id": "75fa4515",
   "metadata": {},
   "outputs": [],
   "source": []
  },
  {
   "cell_type": "code",
   "execution_count": null,
   "id": "968a5935",
   "metadata": {},
   "outputs": [],
   "source": []
  },
  {
   "cell_type": "code",
   "execution_count": null,
   "id": "1a8b3d4d",
   "metadata": {},
   "outputs": [],
   "source": []
  },
  {
   "cell_type": "code",
   "execution_count": null,
   "id": "d56f7636",
   "metadata": {},
   "outputs": [],
   "source": []
  },
  {
   "cell_type": "code",
   "execution_count": null,
   "id": "b4d20a30",
   "metadata": {},
   "outputs": [],
   "source": []
  }
 ],
 "metadata": {
  "kernelspec": {
   "display_name": "run-md",
   "language": "python",
   "name": "run-md"
  },
  "language_info": {
   "codemirror_mode": {
    "name": "ipython",
    "version": 3
   },
   "file_extension": ".py",
   "mimetype": "text/x-python",
   "name": "python",
   "nbconvert_exporter": "python",
   "pygments_lexer": "ipython3",
   "version": "3.12.11"
  }
 },
 "nbformat": 4,
 "nbformat_minor": 5
}
